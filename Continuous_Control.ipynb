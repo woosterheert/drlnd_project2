{
 "cells": [
  {
   "cell_type": "code",
   "execution_count": 1,
   "metadata": {},
   "outputs": [],
   "source": [
    "import torch\n",
    "from models import DDPG_Policy_Network, DDPG_Value_Network\n",
    "from utils import Environment, ReplayBuffer, plot_results\n",
    "from agent import Agent\n",
    "import numpy as np"
   ]
  },
  {
   "cell_type": "markdown",
   "metadata": {},
   "source": [
    "# DDPG"
   ]
  },
  {
   "cell_type": "code",
   "execution_count": 2,
   "metadata": {},
   "outputs": [
    {
     "name": "stderr",
     "output_type": "stream",
     "text": [
      "INFO:unityagents:\n",
      "'Academy' started successfully!\n",
      "Unity Academy name: Academy\n",
      "        Number of Brains: 1\n",
      "        Number of External Brains : 1\n",
      "        Lesson number : 0\n",
      "        Reset Parameters :\n",
      "\t\tgoal_size -> 5.0\n",
      "\t\tgoal_speed -> 1.0\n",
      "Unity brain name: ReacherBrain\n",
      "        Number of Visual Observations (per agent): 0\n",
      "        Vector Observation space type: continuous\n",
      "        Vector Observation space size (per agent): 33\n",
      "        Number of stacked Vector Observation: 1\n",
      "        Vector Action space type: continuous\n",
      "        Vector Action space size (per agent): 4\n",
      "        Vector Action descriptions: , , , \n"
     ]
    }
   ],
   "source": [
    "reacherWorld = Environment('unity_vector', 'Reacher 2.app')"
   ]
  },
  {
   "cell_type": "code",
   "execution_count": 3,
   "metadata": {},
   "outputs": [],
   "source": [
    "config = {'lr': 0.001, 'alpha': 0.01, 'update_freq': 10, 'gamma': 0.99,\n",
    "          'tau': 0.001, 'max_nr_steps': 2000, 'n_agents': 20, 'nr_updates': 10, 'noise_scale_init': 0.2,\n",
    "         'nr_episodes': 200, 'noise_scale_min': 0.01, 'noise_decl': 0.99, \n",
    "         'output_freq': 10, 'action_boundaries': [-1, 1]}"
   ]
  },
  {
   "cell_type": "code",
   "execution_count": 8,
   "metadata": {},
   "outputs": [],
   "source": [
    "online_value_network = DDPG_Value_Network(reacherWorld.observation_space_size, reacherWorld.action_space_size,\n",
    "                    seed=0, hidden_layers=[128,128])\n",
    "target_value_network = DDPG_Value_Network(reacherWorld.observation_space_size, reacherWorld.action_space_size,\n",
    "                     seed=0, hidden_layers=[128,128])\n",
    "online_policy_network = DDPG_Policy_Network(reacherWorld.observation_space_size, reacherWorld.action_space_size,\n",
    "                    seed=0, hidden_layers=[128,128])\n",
    "target_policy_network = DDPG_Policy_Network(reacherWorld.observation_space_size, reacherWorld.action_space_size,\n",
    "                     seed=0, hidden_layers=[128,128])\n",
    "memory = ReplayBuffer(buffer_size=100000, batch_size=256, seed=0)\n",
    "reacher = Agent(online_value_network, target_value_network, online_policy_network, target_policy_network,\n",
    "               reacherWorld, memory, config, train_mode=True)"
   ]
  },
  {
   "cell_type": "code",
   "execution_count": 9,
   "metadata": {},
   "outputs": [
    {
     "name": "stderr",
     "output_type": "stream",
     "text": [
      "/Users/thuis/Documents/trainings/deep-reinforcement-learning/drlnd_project2/agent.py:130: UserWarning: torch.nn.utils.clip_grad_norm is now deprecated in favor of torch.nn.utils.clip_grad_norm_.\n",
      "  torch.nn.utils.clip_grad_norm(self.online_value_network.parameters(), 1)\n",
      "/Users/thuis/Documents/trainings/deep-reinforcement-learning/drlnd_project2/agent.py:140: UserWarning: torch.nn.utils.clip_grad_norm is now deprecated in favor of torch.nn.utils.clip_grad_norm_.\n",
      "  torch.nn.utils.clip_grad_norm(self.online_policy_network.parameters(), 1)\n"
     ]
    },
    {
     "name": "stdout",
     "output_type": "stream",
     "text": [
      "finished episodes 1 - 10 in 171.4841411113739 s. with avg reward 0.24\n",
      "finished episodes 11 - 20 in 172.04550075531006 s. with avg reward 0.74\n",
      "finished episodes 21 - 30 in 171.20420908927917 s. with avg reward 2.63\n",
      "finished episodes 31 - 40 in 173.357164144516 s. with avg reward 15.22\n",
      "finished episodes 41 - 50 in 173.98749780654907 s. with avg reward 24.34\n",
      "finished episodes 51 - 60 in 174.15614891052246 s. with avg reward 32.13\n",
      "finished episodes 61 - 70 in 175.15079188346863 s. with avg reward 36.67\n",
      "finished episodes 71 - 80 in 177.4815068244934 s. with avg reward 37.13\n",
      "finished episodes 81 - 90 in 179.05738496780396 s. with avg reward 35.54\n",
      "finished episodes 91 - 100 in 178.28300285339355 s. with avg reward 35.05\n",
      "finished episodes 101 - 110 in 180.27439093589783 s. with avg reward 35.77\n",
      "finished episodes 111 - 120 in 180.80648589134216 s. with avg reward 35.78\n",
      "finished episodes 121 - 130 in 181.27290415763855 s. with avg reward 35.75\n",
      "finished episodes 131 - 140 in 181.32475805282593 s. with avg reward 36.72\n",
      "finished episodes 141 - 150 in 181.31520986557007 s. with avg reward 36.33\n",
      "finished episodes 151 - 160 in 181.53206300735474 s. with avg reward 35.51\n",
      "finished episodes 161 - 170 in 181.4296748638153 s. with avg reward 36.1\n",
      "finished episodes 171 - 180 in 182.7740581035614 s. with avg reward 35.66\n",
      "finished episodes 181 - 190 in 183.84204721450806 s. with avg reward 36.45\n",
      "finished episodes 191 - 200 in 183.66098403930664 s. with avg reward 36.51\n"
     ]
    }
   ],
   "source": [
    "results = reacher.train()"
   ]
  },
  {
   "cell_type": "code",
   "execution_count": 10,
   "metadata": {},
   "outputs": [
    {
     "data": {
      "image/png": "[encoded data removed]",
      "text/plain": [
       "<Figure size 432x288 with 1 Axes>"
      ]
     },
     "metadata": {
      "needs_background": "light"
     },
     "output_type": "display_data"
    }
   ],
   "source": [
    "plot_results(np.mean(np.vstack(reacher.all_scores), axis=1), window_size=100, target_score=30)"
   ]
  },
  {
   "cell_type": "code",
   "execution_count": 12,
   "metadata": {},
   "outputs": [],
   "source": [
    "torch.save(online_value_network.state_dict(), 'online_value_network.pth')\n",
    "torch.save(target_value_network.state_dict(), 'target_value_network.pth')\n",
    "torch.save(online_policy_network.state_dict(), 'online_policy_network.pth')\n",
    "torch.save(target_policy_network.state_dict(), 'target_policy_network.pth')"
   ]
  }
 ],
 "metadata": {
  "kernelspec": {
   "display_name": "drlnd",
   "language": "python",
   "name": "drlnd"
  },
  "language_info": {
   "codemirror_mode": {
    "name": "ipython",
    "version": 3
   },
   "file_extension": ".py",
   "mimetype": "text/x-python",
   "name": "python",
   "nbconvert_exporter": "python",
   "pygments_lexer": "ipython3",
   "version": "3.6.12"
  }
 },
 "nbformat": 4,
 "nbformat_minor": 4
}
